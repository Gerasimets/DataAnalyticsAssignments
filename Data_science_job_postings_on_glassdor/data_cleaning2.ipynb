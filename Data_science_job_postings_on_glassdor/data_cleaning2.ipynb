{
 "cells": [
  {
   "cell_type": "markdown",
   "id": "429d6f81-4e72-4456-8b89-8a0b53f6413d",
   "metadata": {},
   "source": [
    "## Summary\n",
    "This is my project where I demonstrate my data cleaning and transformation skills.\n",
    "\n",
    "This dataset is taken from kaggle and is available to everyone."
   ]
  },
  {
   "cell_type": "markdown",
   "id": "fb36a6a4-e93d-4409-b9fd-bd895b11a9ab",
   "metadata": {},
   "source": [
    "## Description of the data\n",
    "Dataset is a csv file that contains information about job offers for the position of a Data Scientist from the Glassdoor website.\n",
    "\n",
    "Description of columns in this dataset:\n",
    "\n",
    "Job Title: job title  \n",
    "\n",
    "Salary Estimate: salary banding for each position    \n",
    "\n",
    "Job Description: full job description\n",
    "\n",
    "Rating: rating of each company\n",
    "\n",
    "Company Name: name of the company  \n",
    "\n",
    "Location: company location, city and state\n",
    "\n",
    "Headquarters: head office location, city and state\n",
    "\n",
    "Size: the range of the number of employees\n",
    "\n",
    "Founded: year of foundation\n",
    "\n",
    "Type of ownership: describes the company type i.e non-profit/public/private farm etc   \n",
    "\n",
    "Industry: industry the company specializes in\n",
    "\n",
    "Sector: sector the company specializes in \n",
    "\n",
    "Revenue: company's revenue range\n",
    "\n",
    "Competitors: company competitors    "
   ]
  },
  {
   "cell_type": "markdown",
   "id": "8e1d9b9c-a62a-4fa3-bd7c-dcc20ccfd859",
   "metadata": {},
   "source": [
    "## Data cleaning & transformation"
   ]
  },
  {
   "cell_type": "code",
   "execution_count": 1,
   "id": "bd3d715e-8d5f-4eb4-8225-077f4e57364c",
   "metadata": {
    "tags": []
   },
   "outputs": [],
   "source": [
    "import numpy as np\n",
    "import pandas as pd\n",
    "import re"
   ]
  },
  {
   "cell_type": "code",
   "execution_count": 57,
   "id": "b082cdee-7b10-48a8-b57d-ce048bf2cf7e",
   "metadata": {
    "tags": []
   },
   "outputs": [],
   "source": [
    "df = pd.read_csv('Uncleaned_DS_jobs.csv', index_col='index')"
   ]
  },
  {
   "cell_type": "code",
   "execution_count": 58,
   "id": "113495ab-3037-4d27-a00a-6e33864cdc8a",
   "metadata": {
    "tags": []
   },
   "outputs": [
    {
     "data": {
      "text/html": [
       "<div>\n",
       "<style scoped>\n",
       "    .dataframe tbody tr th:only-of-type {\n",
       "        vertical-align: middle;\n",
       "    }\n",
       "\n",
       "    .dataframe tbody tr th {\n",
       "        vertical-align: top;\n",
       "    }\n",
       "\n",
       "    .dataframe thead th {\n",
       "        text-align: right;\n",
       "    }\n",
       "</style>\n",
       "<table border=\"1\" class=\"dataframe\">\n",
       "  <thead>\n",
       "    <tr style=\"text-align: right;\">\n",
       "      <th></th>\n",
       "      <th>Job Title</th>\n",
       "      <th>Salary Estimate</th>\n",
       "      <th>Job Description</th>\n",
       "      <th>Rating</th>\n",
       "      <th>Company Name</th>\n",
       "      <th>Location</th>\n",
       "      <th>Headquarters</th>\n",
       "      <th>Size</th>\n",
       "      <th>Founded</th>\n",
       "      <th>Type of ownership</th>\n",
       "      <th>Industry</th>\n",
       "      <th>Sector</th>\n",
       "      <th>Revenue</th>\n",
       "      <th>Competitors</th>\n",
       "    </tr>\n",
       "    <tr>\n",
       "      <th>index</th>\n",
       "      <th></th>\n",
       "      <th></th>\n",
       "      <th></th>\n",
       "      <th></th>\n",
       "      <th></th>\n",
       "      <th></th>\n",
       "      <th></th>\n",
       "      <th></th>\n",
       "      <th></th>\n",
       "      <th></th>\n",
       "      <th></th>\n",
       "      <th></th>\n",
       "      <th></th>\n",
       "      <th></th>\n",
       "    </tr>\n",
       "  </thead>\n",
       "  <tbody>\n",
       "    <tr>\n",
       "      <th>0</th>\n",
       "      <td>Sr Data Scientist</td>\n",
       "      <td>$137K-$171K (Glassdoor est.)</td>\n",
       "      <td>Description\\n\\nThe Senior Data Scientist is re...</td>\n",
       "      <td>3.1</td>\n",
       "      <td>Healthfirst\\n3.1</td>\n",
       "      <td>New York, NY</td>\n",
       "      <td>New York, NY</td>\n",
       "      <td>1001 to 5000 employees</td>\n",
       "      <td>1993</td>\n",
       "      <td>Nonprofit Organization</td>\n",
       "      <td>Insurance Carriers</td>\n",
       "      <td>Insurance</td>\n",
       "      <td>Unknown / Non-Applicable</td>\n",
       "      <td>EmblemHealth, UnitedHealth Group, Aetna</td>\n",
       "    </tr>\n",
       "    <tr>\n",
       "      <th>1</th>\n",
       "      <td>Data Scientist</td>\n",
       "      <td>$137K-$171K (Glassdoor est.)</td>\n",
       "      <td>Secure our Nation, Ignite your Future\\n\\nJoin ...</td>\n",
       "      <td>4.2</td>\n",
       "      <td>ManTech\\n4.2</td>\n",
       "      <td>Chantilly, VA</td>\n",
       "      <td>Herndon, VA</td>\n",
       "      <td>5001 to 10000 employees</td>\n",
       "      <td>1968</td>\n",
       "      <td>Company - Public</td>\n",
       "      <td>Research &amp; Development</td>\n",
       "      <td>Business Services</td>\n",
       "      <td>$1 to $2 billion (USD)</td>\n",
       "      <td>-1</td>\n",
       "    </tr>\n",
       "    <tr>\n",
       "      <th>2</th>\n",
       "      <td>Data Scientist</td>\n",
       "      <td>$137K-$171K (Glassdoor est.)</td>\n",
       "      <td>Overview\\n\\n\\nAnalysis Group is one of the lar...</td>\n",
       "      <td>3.8</td>\n",
       "      <td>Analysis Group\\n3.8</td>\n",
       "      <td>Boston, MA</td>\n",
       "      <td>Boston, MA</td>\n",
       "      <td>1001 to 5000 employees</td>\n",
       "      <td>1981</td>\n",
       "      <td>Private Practice / Firm</td>\n",
       "      <td>Consulting</td>\n",
       "      <td>Business Services</td>\n",
       "      <td>$100 to $500 million (USD)</td>\n",
       "      <td>-1</td>\n",
       "    </tr>\n",
       "    <tr>\n",
       "      <th>3</th>\n",
       "      <td>Data Scientist</td>\n",
       "      <td>$137K-$171K (Glassdoor est.)</td>\n",
       "      <td>JOB DESCRIPTION:\\n\\nDo you have a passion for ...</td>\n",
       "      <td>3.5</td>\n",
       "      <td>INFICON\\n3.5</td>\n",
       "      <td>Newton, MA</td>\n",
       "      <td>Bad Ragaz, Switzerland</td>\n",
       "      <td>501 to 1000 employees</td>\n",
       "      <td>2000</td>\n",
       "      <td>Company - Public</td>\n",
       "      <td>Electrical &amp; Electronic Manufacturing</td>\n",
       "      <td>Manufacturing</td>\n",
       "      <td>$100 to $500 million (USD)</td>\n",
       "      <td>MKS Instruments, Pfeiffer Vacuum, Agilent Tech...</td>\n",
       "    </tr>\n",
       "    <tr>\n",
       "      <th>4</th>\n",
       "      <td>Data Scientist</td>\n",
       "      <td>$137K-$171K (Glassdoor est.)</td>\n",
       "      <td>Data Scientist\\nAffinity Solutions / Marketing...</td>\n",
       "      <td>2.9</td>\n",
       "      <td>Affinity Solutions\\n2.9</td>\n",
       "      <td>New York, NY</td>\n",
       "      <td>New York, NY</td>\n",
       "      <td>51 to 200 employees</td>\n",
       "      <td>1998</td>\n",
       "      <td>Company - Private</td>\n",
       "      <td>Advertising &amp; Marketing</td>\n",
       "      <td>Business Services</td>\n",
       "      <td>Unknown / Non-Applicable</td>\n",
       "      <td>Commerce Signals, Cardlytics, Yodlee</td>\n",
       "    </tr>\n",
       "  </tbody>\n",
       "</table>\n",
       "</div>"
      ],
      "text/plain": [
       "               Job Title               Salary Estimate  \\\n",
       "index                                                    \n",
       "0      Sr Data Scientist  $137K-$171K (Glassdoor est.)   \n",
       "1         Data Scientist  $137K-$171K (Glassdoor est.)   \n",
       "2         Data Scientist  $137K-$171K (Glassdoor est.)   \n",
       "3         Data Scientist  $137K-$171K (Glassdoor est.)   \n",
       "4         Data Scientist  $137K-$171K (Glassdoor est.)   \n",
       "\n",
       "                                         Job Description  Rating  \\\n",
       "index                                                              \n",
       "0      Description\\n\\nThe Senior Data Scientist is re...     3.1   \n",
       "1      Secure our Nation, Ignite your Future\\n\\nJoin ...     4.2   \n",
       "2      Overview\\n\\n\\nAnalysis Group is one of the lar...     3.8   \n",
       "3      JOB DESCRIPTION:\\n\\nDo you have a passion for ...     3.5   \n",
       "4      Data Scientist\\nAffinity Solutions / Marketing...     2.9   \n",
       "\n",
       "                  Company Name       Location            Headquarters  \\\n",
       "index                                                                   \n",
       "0             Healthfirst\\n3.1   New York, NY            New York, NY   \n",
       "1                 ManTech\\n4.2  Chantilly, VA             Herndon, VA   \n",
       "2          Analysis Group\\n3.8     Boston, MA              Boston, MA   \n",
       "3                 INFICON\\n3.5     Newton, MA  Bad Ragaz, Switzerland   \n",
       "4      Affinity Solutions\\n2.9   New York, NY            New York, NY   \n",
       "\n",
       "                          Size  Founded        Type of ownership  \\\n",
       "index                                                              \n",
       "0       1001 to 5000 employees     1993   Nonprofit Organization   \n",
       "1      5001 to 10000 employees     1968         Company - Public   \n",
       "2       1001 to 5000 employees     1981  Private Practice / Firm   \n",
       "3        501 to 1000 employees     2000         Company - Public   \n",
       "4          51 to 200 employees     1998        Company - Private   \n",
       "\n",
       "                                    Industry             Sector  \\\n",
       "index                                                             \n",
       "0                         Insurance Carriers          Insurance   \n",
       "1                     Research & Development  Business Services   \n",
       "2                                 Consulting  Business Services   \n",
       "3      Electrical & Electronic Manufacturing      Manufacturing   \n",
       "4                    Advertising & Marketing  Business Services   \n",
       "\n",
       "                          Revenue  \\\n",
       "index                               \n",
       "0        Unknown / Non-Applicable   \n",
       "1          $1 to $2 billion (USD)   \n",
       "2      $100 to $500 million (USD)   \n",
       "3      $100 to $500 million (USD)   \n",
       "4        Unknown / Non-Applicable   \n",
       "\n",
       "                                             Competitors  \n",
       "index                                                     \n",
       "0                EmblemHealth, UnitedHealth Group, Aetna  \n",
       "1                                                     -1  \n",
       "2                                                     -1  \n",
       "3      MKS Instruments, Pfeiffer Vacuum, Agilent Tech...  \n",
       "4                   Commerce Signals, Cardlytics, Yodlee  "
      ]
     },
     "execution_count": 58,
     "metadata": {},
     "output_type": "execute_result"
    }
   ],
   "source": [
    "# let's look at the first 10 rows of the dataset to decide what can be changed in order to do further analysis\n",
    "df.head()"
   ]
  },
  {
   "cell_type": "code",
   "execution_count": 4,
   "id": "7fbec230-9e87-421d-a317-94e7ac355a96",
   "metadata": {
    "tags": []
   },
   "outputs": [
    {
     "name": "stdout",
     "output_type": "stream",
     "text": [
      "<class 'pandas.core.frame.DataFrame'>\n",
      "Int64Index: 672 entries, 0 to 671\n",
      "Data columns (total 14 columns):\n",
      " #   Column             Non-Null Count  Dtype  \n",
      "---  ------             --------------  -----  \n",
      " 0   Job Title          672 non-null    object \n",
      " 1   Salary Estimate    672 non-null    object \n",
      " 2   Job Description    672 non-null    object \n",
      " 3   Rating             672 non-null    float64\n",
      " 4   Company Name       672 non-null    object \n",
      " 5   Location           672 non-null    object \n",
      " 6   Headquarters       672 non-null    object \n",
      " 7   Size               672 non-null    object \n",
      " 8   Founded            672 non-null    int64  \n",
      " 9   Type of ownership  672 non-null    object \n",
      " 10  Industry           672 non-null    object \n",
      " 11  Sector             672 non-null    object \n",
      " 12  Revenue            672 non-null    object \n",
      " 13  Competitors        672 non-null    object \n",
      "dtypes: float64(1), int64(1), object(12)\n",
      "memory usage: 78.8+ KB\n"
     ]
    }
   ],
   "source": [
    "# information about columns and data types\n",
    "# no null values\n",
    "df.info()"
   ]
  },
  {
   "cell_type": "markdown",
   "id": "94ce94be-c20d-46d0-b350-193fbea22726",
   "metadata": {},
   "source": [
    "### 1. Сolumn names to one view \n",
    "---"
   ]
  },
  {
   "cell_type": "code",
   "execution_count": 5,
   "id": "3c49e7db-eaad-41a3-83d2-b9aa7fec4d3f",
   "metadata": {
    "tags": []
   },
   "outputs": [],
   "source": [
    "# make the column names more suitable\n",
    "df.rename(columns=str.lower, inplace=True)"
   ]
  },
  {
   "cell_type": "code",
   "execution_count": 6,
   "id": "f4842f39-9648-48dc-ab81-42fcc051df43",
   "metadata": {
    "tags": []
   },
   "outputs": [
    {
     "data": {
      "text/plain": [
       "Index(['job title', 'salary estimate', 'job description', 'rating',\n",
       "       'company name', 'location', 'headquarters', 'size', 'founded',\n",
       "       'type of ownership', 'industry', 'sector', 'revenue', 'competitors'],\n",
       "      dtype='object')"
      ]
     },
     "execution_count": 6,
     "metadata": {},
     "output_type": "execute_result"
    }
   ],
   "source": [
    "df.columns"
   ]
  },
  {
   "cell_type": "code",
   "execution_count": 7,
   "id": "16bca02c-36ac-4748-bade-8425b4fc76fd",
   "metadata": {
    "tags": []
   },
   "outputs": [],
   "source": [
    "# make the column names more suitable\n",
    "df.columns = df.columns.str.replace(' ', '_')"
   ]
  },
  {
   "cell_type": "code",
   "execution_count": 8,
   "id": "c7812086-ca5d-4057-8580-02c5ee986439",
   "metadata": {},
   "outputs": [],
   "source": [
    "df.rename(columns={'size':'staff_size'}, inplace=True)"
   ]
  },
  {
   "cell_type": "code",
   "execution_count": 9,
   "id": "6eee9918-983d-4068-98d5-e5416f46a304",
   "metadata": {
    "tags": []
   },
   "outputs": [
    {
     "data": {
      "text/plain": [
       "Index(['job_title', 'salary_estimate', 'job_description', 'rating',\n",
       "       'company_name', 'location', 'headquarters', 'staff_size', 'founded',\n",
       "       'type_of_ownership', 'industry', 'sector', 'revenue', 'competitors'],\n",
       "      dtype='object')"
      ]
     },
     "execution_count": 9,
     "metadata": {},
     "output_type": "execute_result"
    }
   ],
   "source": [
    "df.columns"
   ]
  },
  {
   "cell_type": "code",
   "execution_count": 10,
   "id": "01334e87-c0ad-4b16-9dd1-614bc3f15e23",
   "metadata": {
    "tags": []
   },
   "outputs": [],
   "source": [
    "# copy the dataset for further data cleaning and transformation\n",
    "df_clear = df.copy()"
   ]
  },
  {
   "cell_type": "markdown",
   "id": "ddadd59d-8d8a-4ae2-8e63-955907762e6f",
   "metadata": {},
   "source": [
    "### 2. Deleting a competitor column\n",
    "---"
   ]
  },
  {
   "cell_type": "markdown",
   "id": "9b6218a5-e955-4591-84ab-db0cc34f7ac4",
   "metadata": {},
   "source": [
    "The competitors column contains 501 rows with a \"-1\" value of 672 rows.\n",
    "\n",
    "More than 70% of data about competitors is unknown, we can delete this column"
   ]
  },
  {
   "cell_type": "code",
   "execution_count": 11,
   "id": "d3bad1fa-a2e3-45b7-a7c6-5ea104e7536b",
   "metadata": {
    "tags": []
   },
   "outputs": [
    {
     "data": {
      "text/plain": [
       "-1                                                                501\n",
       "Roche, GlaxoSmithKline, Novartis                                   10\n",
       "Los Alamos National Laboratory, Battelle, SRI International         6\n",
       "Leidos, CACI International, Booz Allen Hamilton                     6\n",
       "MIT Lincoln Laboratory, Lockheed Martin, Northrop Grumman           3\n",
       "                                                                 ... \n",
       "Pfizer, GlaxoSmithKline                                             1\n",
       "Square, Amazon, Apple                                               1\n",
       "Lumentum Operations, Keysight Technologies, O-Net Technologies      1\n",
       "Munich Re, Hannover RE, SCOR                                        1\n",
       "Genomic Health, Myriad Genetics, The Broad Institute                1\n",
       "Name: competitors, Length: 108, dtype: int64"
      ]
     },
     "execution_count": 11,
     "metadata": {},
     "output_type": "execute_result"
    }
   ],
   "source": [
    "df_clear.competitors.value_counts()"
   ]
  },
  {
   "cell_type": "code",
   "execution_count": 12,
   "id": "5dd74a34-4013-4220-b711-5c222a5aae08",
   "metadata": {
    "tags": []
   },
   "outputs": [],
   "source": [
    "# removed competitors column because it has 501 '-1' values\n",
    "df_clear.drop(columns='competitors', inplace=True)"
   ]
  },
  {
   "cell_type": "markdown",
   "id": "4b1d4fb8-d64a-4f39-9e0a-d18512f6050c",
   "metadata": {},
   "source": [
    "### 3. Removing extra values in the company name\n",
    "---"
   ]
  },
  {
   "cell_type": "code",
   "execution_count": 13,
   "id": "51407250-2d0e-47c1-8d0b-09ed5957608c",
   "metadata": {
    "tags": []
   },
   "outputs": [],
   "source": [
    "company_name = df_clear.company_name.tolist()"
   ]
  },
  {
   "cell_type": "code",
   "execution_count": 14,
   "id": "6d0edb97-8484-4b2d-bdf5-6e637ab54c51",
   "metadata": {
    "tags": []
   },
   "outputs": [],
   "source": [
    "# removed the numbers from the company name\n",
    "for i in range(len(company_name)):\n",
    "    company_name[i] = company_name[i].split('\\n')[0]"
   ]
  },
  {
   "cell_type": "code",
   "execution_count": 15,
   "id": "c0c88718-bad5-4c76-8564-540a74098e5d",
   "metadata": {
    "tags": []
   },
   "outputs": [],
   "source": [
    "df_clear.company_name = company_name"
   ]
  },
  {
   "cell_type": "code",
   "execution_count": 16,
   "id": "fe154512-c868-4e59-83a6-2ef619553d04",
   "metadata": {
    "tags": []
   },
   "outputs": [
    {
     "data": {
      "text/html": [
       "<div>\n",
       "<style scoped>\n",
       "    .dataframe tbody tr th:only-of-type {\n",
       "        vertical-align: middle;\n",
       "    }\n",
       "\n",
       "    .dataframe tbody tr th {\n",
       "        vertical-align: top;\n",
       "    }\n",
       "\n",
       "    .dataframe thead th {\n",
       "        text-align: right;\n",
       "    }\n",
       "</style>\n",
       "<table border=\"1\" class=\"dataframe\">\n",
       "  <thead>\n",
       "    <tr style=\"text-align: right;\">\n",
       "      <th></th>\n",
       "      <th>job_title</th>\n",
       "      <th>salary_estimate</th>\n",
       "      <th>job_description</th>\n",
       "      <th>rating</th>\n",
       "      <th>company_name</th>\n",
       "      <th>location</th>\n",
       "      <th>headquarters</th>\n",
       "      <th>staff_size</th>\n",
       "      <th>founded</th>\n",
       "      <th>type_of_ownership</th>\n",
       "      <th>industry</th>\n",
       "      <th>sector</th>\n",
       "      <th>revenue</th>\n",
       "    </tr>\n",
       "    <tr>\n",
       "      <th>index</th>\n",
       "      <th></th>\n",
       "      <th></th>\n",
       "      <th></th>\n",
       "      <th></th>\n",
       "      <th></th>\n",
       "      <th></th>\n",
       "      <th></th>\n",
       "      <th></th>\n",
       "      <th></th>\n",
       "      <th></th>\n",
       "      <th></th>\n",
       "      <th></th>\n",
       "      <th></th>\n",
       "    </tr>\n",
       "  </thead>\n",
       "  <tbody>\n",
       "    <tr>\n",
       "      <th>0</th>\n",
       "      <td>Sr Data Scientist</td>\n",
       "      <td>$137K-$171K (Glassdoor est.)</td>\n",
       "      <td>Description\\n\\nThe Senior Data Scientist is re...</td>\n",
       "      <td>3.1</td>\n",
       "      <td>Healthfirst</td>\n",
       "      <td>New York, NY</td>\n",
       "      <td>New York, NY</td>\n",
       "      <td>1001 to 5000 employees</td>\n",
       "      <td>1993</td>\n",
       "      <td>Nonprofit Organization</td>\n",
       "      <td>Insurance Carriers</td>\n",
       "      <td>Insurance</td>\n",
       "      <td>Unknown / Non-Applicable</td>\n",
       "    </tr>\n",
       "    <tr>\n",
       "      <th>1</th>\n",
       "      <td>Data Scientist</td>\n",
       "      <td>$137K-$171K (Glassdoor est.)</td>\n",
       "      <td>Secure our Nation, Ignite your Future\\n\\nJoin ...</td>\n",
       "      <td>4.2</td>\n",
       "      <td>ManTech</td>\n",
       "      <td>Chantilly, VA</td>\n",
       "      <td>Herndon, VA</td>\n",
       "      <td>5001 to 10000 employees</td>\n",
       "      <td>1968</td>\n",
       "      <td>Company - Public</td>\n",
       "      <td>Research &amp; Development</td>\n",
       "      <td>Business Services</td>\n",
       "      <td>$1 to $2 billion (USD)</td>\n",
       "    </tr>\n",
       "    <tr>\n",
       "      <th>2</th>\n",
       "      <td>Data Scientist</td>\n",
       "      <td>$137K-$171K (Glassdoor est.)</td>\n",
       "      <td>Overview\\n\\n\\nAnalysis Group is one of the lar...</td>\n",
       "      <td>3.8</td>\n",
       "      <td>Analysis Group</td>\n",
       "      <td>Boston, MA</td>\n",
       "      <td>Boston, MA</td>\n",
       "      <td>1001 to 5000 employees</td>\n",
       "      <td>1981</td>\n",
       "      <td>Private Practice / Firm</td>\n",
       "      <td>Consulting</td>\n",
       "      <td>Business Services</td>\n",
       "      <td>$100 to $500 million (USD)</td>\n",
       "    </tr>\n",
       "    <tr>\n",
       "      <th>3</th>\n",
       "      <td>Data Scientist</td>\n",
       "      <td>$137K-$171K (Glassdoor est.)</td>\n",
       "      <td>JOB DESCRIPTION:\\n\\nDo you have a passion for ...</td>\n",
       "      <td>3.5</td>\n",
       "      <td>INFICON</td>\n",
       "      <td>Newton, MA</td>\n",
       "      <td>Bad Ragaz, Switzerland</td>\n",
       "      <td>501 to 1000 employees</td>\n",
       "      <td>2000</td>\n",
       "      <td>Company - Public</td>\n",
       "      <td>Electrical &amp; Electronic Manufacturing</td>\n",
       "      <td>Manufacturing</td>\n",
       "      <td>$100 to $500 million (USD)</td>\n",
       "    </tr>\n",
       "    <tr>\n",
       "      <th>4</th>\n",
       "      <td>Data Scientist</td>\n",
       "      <td>$137K-$171K (Glassdoor est.)</td>\n",
       "      <td>Data Scientist\\nAffinity Solutions / Marketing...</td>\n",
       "      <td>2.9</td>\n",
       "      <td>Affinity Solutions</td>\n",
       "      <td>New York, NY</td>\n",
       "      <td>New York, NY</td>\n",
       "      <td>51 to 200 employees</td>\n",
       "      <td>1998</td>\n",
       "      <td>Company - Private</td>\n",
       "      <td>Advertising &amp; Marketing</td>\n",
       "      <td>Business Services</td>\n",
       "      <td>Unknown / Non-Applicable</td>\n",
       "    </tr>\n",
       "  </tbody>\n",
       "</table>\n",
       "</div>"
      ],
      "text/plain": [
       "               job_title               salary_estimate  \\\n",
       "index                                                    \n",
       "0      Sr Data Scientist  $137K-$171K (Glassdoor est.)   \n",
       "1         Data Scientist  $137K-$171K (Glassdoor est.)   \n",
       "2         Data Scientist  $137K-$171K (Glassdoor est.)   \n",
       "3         Data Scientist  $137K-$171K (Glassdoor est.)   \n",
       "4         Data Scientist  $137K-$171K (Glassdoor est.)   \n",
       "\n",
       "                                         job_description  rating  \\\n",
       "index                                                              \n",
       "0      Description\\n\\nThe Senior Data Scientist is re...     3.1   \n",
       "1      Secure our Nation, Ignite your Future\\n\\nJoin ...     4.2   \n",
       "2      Overview\\n\\n\\nAnalysis Group is one of the lar...     3.8   \n",
       "3      JOB DESCRIPTION:\\n\\nDo you have a passion for ...     3.5   \n",
       "4      Data Scientist\\nAffinity Solutions / Marketing...     2.9   \n",
       "\n",
       "             company_name       location            headquarters  \\\n",
       "index                                                              \n",
       "0             Healthfirst   New York, NY            New York, NY   \n",
       "1                 ManTech  Chantilly, VA             Herndon, VA   \n",
       "2          Analysis Group     Boston, MA              Boston, MA   \n",
       "3                 INFICON     Newton, MA  Bad Ragaz, Switzerland   \n",
       "4      Affinity Solutions   New York, NY            New York, NY   \n",
       "\n",
       "                    staff_size  founded        type_of_ownership  \\\n",
       "index                                                              \n",
       "0       1001 to 5000 employees     1993   Nonprofit Organization   \n",
       "1      5001 to 10000 employees     1968         Company - Public   \n",
       "2       1001 to 5000 employees     1981  Private Practice / Firm   \n",
       "3        501 to 1000 employees     2000         Company - Public   \n",
       "4          51 to 200 employees     1998        Company - Private   \n",
       "\n",
       "                                    industry             sector  \\\n",
       "index                                                             \n",
       "0                         Insurance Carriers          Insurance   \n",
       "1                     Research & Development  Business Services   \n",
       "2                                 Consulting  Business Services   \n",
       "3      Electrical & Electronic Manufacturing      Manufacturing   \n",
       "4                    Advertising & Marketing  Business Services   \n",
       "\n",
       "                          revenue  \n",
       "index                              \n",
       "0        Unknown / Non-Applicable  \n",
       "1          $1 to $2 billion (USD)  \n",
       "2      $100 to $500 million (USD)  \n",
       "3      $100 to $500 million (USD)  \n",
       "4        Unknown / Non-Applicable  "
      ]
     },
     "execution_count": 16,
     "metadata": {},
     "output_type": "execute_result"
    }
   ],
   "source": [
    "df_clear.head()"
   ]
  },
  {
   "cell_type": "markdown",
   "id": "9dec7f02-89f4-404b-abb3-83d4987ca4db",
   "metadata": {},
   "source": [
    "### 4. Salary column into integer\n",
    "---"
   ]
  },
  {
   "cell_type": "code",
   "execution_count": 17,
   "id": "6c0b5430-fd60-4c6f-aa3a-ac44a065d604",
   "metadata": {
    "tags": []
   },
   "outputs": [],
   "source": [
    "salary_estimate = df_clear.salary_estimate.tolist()"
   ]
  },
  {
   "cell_type": "code",
   "execution_count": 18,
   "id": "b05215e2-edc3-4bce-9e25-2d7c11e40c99",
   "metadata": {
    "tags": []
   },
   "outputs": [],
   "source": [
    "# Extract salary value by removing text in parentheses\n",
    "for i in range(len(salary_estimate)):\n",
    "    salary_estimate[i] = salary_estimate[i].split('(')[0]"
   ]
  },
  {
   "cell_type": "code",
   "execution_count": 19,
   "id": "582c9f1c-106b-4869-9282-9ba3f1483807",
   "metadata": {
    "tags": []
   },
   "outputs": [],
   "source": [
    "df_clear.salary_estimate = salary_estimate"
   ]
  },
  {
   "cell_type": "code",
   "execution_count": 20,
   "id": "d7a82a93-1c51-4660-9cd3-6982d858d8bd",
   "metadata": {},
   "outputs": [
    {
     "data": {
      "text/plain": [
       "array(['$137K-$171K ', '$75K-$131K ', '$79K-$131K ', '$99K-$132K ',\n",
       "       '$90K-$109K ', '$101K-$165K ', '$56K-$97K ', '$79K-$106K ',\n",
       "       '$71K-$123K ', '$90K-$124K ', '$91K-$150K ', '$141K-$225K ',\n",
       "       '$145K-$225K', '$79K-$147K ', '$122K-$146K ', '$112K-$116K ',\n",
       "       '$110K-$163K ', '$124K-$198K ', '$79K-$133K ', '$69K-$116K ',\n",
       "       '$31K-$56K ', '$95K-$119K ', '$212K-$331K ', '$66K-$112K ',\n",
       "       '$128K-$201K ', '$138K-$158K ', '$80K-$132K ', '$87K-$141K ',\n",
       "       '$92K-$155K ', '$105K-$167K '], dtype=object)"
      ]
     },
     "execution_count": 20,
     "metadata": {},
     "output_type": "execute_result"
    }
   ],
   "source": [
    "df_clear.salary_estimate.unique()"
   ]
  },
  {
   "cell_type": "code",
   "execution_count": 21,
   "id": "1eab5b2b-2094-4362-bbc9-32171a641fb4",
   "metadata": {},
   "outputs": [],
   "source": [
    "df_clear.salary_estimate = df_clear.salary_estimate.str.replace(' ', '')"
   ]
  },
  {
   "cell_type": "markdown",
   "id": "e97fe5a5-229b-4059-89e9-da4b24251f02",
   "metadata": {},
   "source": [
    "Creating new columns with maximum and minimum salary"
   ]
  },
  {
   "cell_type": "code",
   "execution_count": 22,
   "id": "319aa8c1-38db-4fc7-abe5-3cf4d5553e95",
   "metadata": {
    "tags": []
   },
   "outputs": [],
   "source": [
    "split_data = df_clear.salary_estimate.str.split('-', expand=True)\n",
    "low_salary_limit = split_data[0].tolist()\n",
    "max_salary_limit = split_data[1].tolist()"
   ]
  },
  {
   "cell_type": "code",
   "execution_count": 23,
   "id": "528e8182-f290-49c5-92b6-7a13719ec023",
   "metadata": {
    "tags": []
   },
   "outputs": [],
   "source": [
    "new_idx = df_clear.columns.get_loc('salary_estimate') + 1"
   ]
  },
  {
   "cell_type": "code",
   "execution_count": 24,
   "id": "d428ff6c-d040-4c1f-a8a7-c8e4e44e162d",
   "metadata": {
    "tags": []
   },
   "outputs": [],
   "source": [
    "# insert the low_salary_limit column after the salary_estimate column\n",
    "df_clear.insert(new_idx, 'low_salary_limit', low_salary_limit)"
   ]
  },
  {
   "cell_type": "code",
   "execution_count": 25,
   "id": "aca37d6e-a8fe-4762-aef9-dc685f3e7ba1",
   "metadata": {
    "tags": []
   },
   "outputs": [],
   "source": [
    "new_idx2 = df_clear.columns.get_loc('low_salary_limit') + 1"
   ]
  },
  {
   "cell_type": "code",
   "execution_count": 26,
   "id": "27f1a179-1d6a-4472-8ebc-7f8947082ca6",
   "metadata": {
    "tags": []
   },
   "outputs": [],
   "source": [
    "# insert the max_salary_limit column after the low_salary_limit column\n",
    "df_clear.insert(new_idx2, 'max_salary_limit', max_salary_limit)"
   ]
  },
  {
   "cell_type": "code",
   "execution_count": 27,
   "id": "4ba223d5-4f89-4cee-a3d3-7aa03f2a91ab",
   "metadata": {
    "tags": []
   },
   "outputs": [],
   "source": [
    "# remove extra values from the column with salary\n",
    "df_clear['max_salary_limit'] = df_clear['max_salary_limit'].str.strip('$K ').astype(int)"
   ]
  },
  {
   "cell_type": "code",
   "execution_count": 28,
   "id": "56e14cc7-6087-4c4a-bf20-13cd7d58c6c8",
   "metadata": {
    "tags": []
   },
   "outputs": [
    {
     "data": {
      "text/plain": [
       "array([171, 131, 132, 109, 165,  97, 106, 123, 124, 150, 225, 147, 146,\n",
       "       116, 163, 198, 133,  56, 119, 331, 112, 201, 158, 141, 155, 167])"
      ]
     },
     "execution_count": 28,
     "metadata": {},
     "output_type": "execute_result"
    }
   ],
   "source": [
    "df_clear['max_salary_limit'].unique()"
   ]
  },
  {
   "cell_type": "code",
   "execution_count": 29,
   "id": "8a0e54c6-4952-49d4-a05c-e978a55b2881",
   "metadata": {
    "tags": []
   },
   "outputs": [],
   "source": [
    "# remove extra values from the column with salary\n",
    "df_clear['low_salary_limit'] = df_clear['low_salary_limit'].str.strip('$K ').astype(int)"
   ]
  },
  {
   "cell_type": "code",
   "execution_count": 30,
   "id": "fbf2de9d-9dc3-4f67-a43d-d21be4ccd4d8",
   "metadata": {
    "tags": []
   },
   "outputs": [
    {
     "data": {
      "text/plain": [
       "array([137,  75,  79,  99,  90, 101,  56,  71,  91, 141, 145, 122, 112,\n",
       "       110, 124,  69,  31,  95, 212,  66, 128, 138,  80,  87,  92, 105])"
      ]
     },
     "execution_count": 30,
     "metadata": {},
     "output_type": "execute_result"
    }
   ],
   "source": [
    "df_clear['low_salary_limit'].unique()"
   ]
  },
  {
   "cell_type": "code",
   "execution_count": 31,
   "id": "fe864fd3-04c3-4c6c-a384-c868102f6c57",
   "metadata": {
    "tags": []
   },
   "outputs": [],
   "source": [
    "# lead to thousands\n",
    "df_clear[['low_salary_limit', 'max_salary_limit']] = df_clear[['low_salary_limit', 'max_salary_limit']] * 1000"
   ]
  },
  {
   "cell_type": "code",
   "execution_count": 32,
   "id": "a350f42b-ad88-47de-befe-bac2e735223d",
   "metadata": {
    "tags": []
   },
   "outputs": [],
   "source": [
    "# remove the salary estimate column\n",
    "df_clear.drop(columns='salary_estimate', inplace=True)"
   ]
  },
  {
   "cell_type": "code",
   "execution_count": 33,
   "id": "ae0ba791-04fa-4706-9c1d-b1678c0f61a2",
   "metadata": {
    "tags": []
   },
   "outputs": [
    {
     "data": {
      "text/html": [
       "<div>\n",
       "<style scoped>\n",
       "    .dataframe tbody tr th:only-of-type {\n",
       "        vertical-align: middle;\n",
       "    }\n",
       "\n",
       "    .dataframe tbody tr th {\n",
       "        vertical-align: top;\n",
       "    }\n",
       "\n",
       "    .dataframe thead th {\n",
       "        text-align: right;\n",
       "    }\n",
       "</style>\n",
       "<table border=\"1\" class=\"dataframe\">\n",
       "  <thead>\n",
       "    <tr style=\"text-align: right;\">\n",
       "      <th></th>\n",
       "      <th>job_title</th>\n",
       "      <th>low_salary_limit</th>\n",
       "      <th>max_salary_limit</th>\n",
       "      <th>job_description</th>\n",
       "      <th>rating</th>\n",
       "      <th>company_name</th>\n",
       "      <th>location</th>\n",
       "      <th>headquarters</th>\n",
       "      <th>staff_size</th>\n",
       "      <th>founded</th>\n",
       "      <th>type_of_ownership</th>\n",
       "      <th>industry</th>\n",
       "      <th>sector</th>\n",
       "      <th>revenue</th>\n",
       "    </tr>\n",
       "    <tr>\n",
       "      <th>index</th>\n",
       "      <th></th>\n",
       "      <th></th>\n",
       "      <th></th>\n",
       "      <th></th>\n",
       "      <th></th>\n",
       "      <th></th>\n",
       "      <th></th>\n",
       "      <th></th>\n",
       "      <th></th>\n",
       "      <th></th>\n",
       "      <th></th>\n",
       "      <th></th>\n",
       "      <th></th>\n",
       "      <th></th>\n",
       "    </tr>\n",
       "  </thead>\n",
       "  <tbody>\n",
       "    <tr>\n",
       "      <th>0</th>\n",
       "      <td>Sr Data Scientist</td>\n",
       "      <td>137000</td>\n",
       "      <td>171000</td>\n",
       "      <td>Description\\n\\nThe Senior Data Scientist is re...</td>\n",
       "      <td>3.1</td>\n",
       "      <td>Healthfirst</td>\n",
       "      <td>New York, NY</td>\n",
       "      <td>New York, NY</td>\n",
       "      <td>1001 to 5000 employees</td>\n",
       "      <td>1993</td>\n",
       "      <td>Nonprofit Organization</td>\n",
       "      <td>Insurance Carriers</td>\n",
       "      <td>Insurance</td>\n",
       "      <td>Unknown / Non-Applicable</td>\n",
       "    </tr>\n",
       "    <tr>\n",
       "      <th>1</th>\n",
       "      <td>Data Scientist</td>\n",
       "      <td>137000</td>\n",
       "      <td>171000</td>\n",
       "      <td>Secure our Nation, Ignite your Future\\n\\nJoin ...</td>\n",
       "      <td>4.2</td>\n",
       "      <td>ManTech</td>\n",
       "      <td>Chantilly, VA</td>\n",
       "      <td>Herndon, VA</td>\n",
       "      <td>5001 to 10000 employees</td>\n",
       "      <td>1968</td>\n",
       "      <td>Company - Public</td>\n",
       "      <td>Research &amp; Development</td>\n",
       "      <td>Business Services</td>\n",
       "      <td>$1 to $2 billion (USD)</td>\n",
       "    </tr>\n",
       "    <tr>\n",
       "      <th>2</th>\n",
       "      <td>Data Scientist</td>\n",
       "      <td>137000</td>\n",
       "      <td>171000</td>\n",
       "      <td>Overview\\n\\n\\nAnalysis Group is one of the lar...</td>\n",
       "      <td>3.8</td>\n",
       "      <td>Analysis Group</td>\n",
       "      <td>Boston, MA</td>\n",
       "      <td>Boston, MA</td>\n",
       "      <td>1001 to 5000 employees</td>\n",
       "      <td>1981</td>\n",
       "      <td>Private Practice / Firm</td>\n",
       "      <td>Consulting</td>\n",
       "      <td>Business Services</td>\n",
       "      <td>$100 to $500 million (USD)</td>\n",
       "    </tr>\n",
       "    <tr>\n",
       "      <th>3</th>\n",
       "      <td>Data Scientist</td>\n",
       "      <td>137000</td>\n",
       "      <td>171000</td>\n",
       "      <td>JOB DESCRIPTION:\\n\\nDo you have a passion for ...</td>\n",
       "      <td>3.5</td>\n",
       "      <td>INFICON</td>\n",
       "      <td>Newton, MA</td>\n",
       "      <td>Bad Ragaz, Switzerland</td>\n",
       "      <td>501 to 1000 employees</td>\n",
       "      <td>2000</td>\n",
       "      <td>Company - Public</td>\n",
       "      <td>Electrical &amp; Electronic Manufacturing</td>\n",
       "      <td>Manufacturing</td>\n",
       "      <td>$100 to $500 million (USD)</td>\n",
       "    </tr>\n",
       "    <tr>\n",
       "      <th>4</th>\n",
       "      <td>Data Scientist</td>\n",
       "      <td>137000</td>\n",
       "      <td>171000</td>\n",
       "      <td>Data Scientist\\nAffinity Solutions / Marketing...</td>\n",
       "      <td>2.9</td>\n",
       "      <td>Affinity Solutions</td>\n",
       "      <td>New York, NY</td>\n",
       "      <td>New York, NY</td>\n",
       "      <td>51 to 200 employees</td>\n",
       "      <td>1998</td>\n",
       "      <td>Company - Private</td>\n",
       "      <td>Advertising &amp; Marketing</td>\n",
       "      <td>Business Services</td>\n",
       "      <td>Unknown / Non-Applicable</td>\n",
       "    </tr>\n",
       "  </tbody>\n",
       "</table>\n",
       "</div>"
      ],
      "text/plain": [
       "               job_title  low_salary_limit  max_salary_limit  \\\n",
       "index                                                          \n",
       "0      Sr Data Scientist            137000            171000   \n",
       "1         Data Scientist            137000            171000   \n",
       "2         Data Scientist            137000            171000   \n",
       "3         Data Scientist            137000            171000   \n",
       "4         Data Scientist            137000            171000   \n",
       "\n",
       "                                         job_description  rating  \\\n",
       "index                                                              \n",
       "0      Description\\n\\nThe Senior Data Scientist is re...     3.1   \n",
       "1      Secure our Nation, Ignite your Future\\n\\nJoin ...     4.2   \n",
       "2      Overview\\n\\n\\nAnalysis Group is one of the lar...     3.8   \n",
       "3      JOB DESCRIPTION:\\n\\nDo you have a passion for ...     3.5   \n",
       "4      Data Scientist\\nAffinity Solutions / Marketing...     2.9   \n",
       "\n",
       "             company_name       location            headquarters  \\\n",
       "index                                                              \n",
       "0             Healthfirst   New York, NY            New York, NY   \n",
       "1                 ManTech  Chantilly, VA             Herndon, VA   \n",
       "2          Analysis Group     Boston, MA              Boston, MA   \n",
       "3                 INFICON     Newton, MA  Bad Ragaz, Switzerland   \n",
       "4      Affinity Solutions   New York, NY            New York, NY   \n",
       "\n",
       "                    staff_size  founded        type_of_ownership  \\\n",
       "index                                                              \n",
       "0       1001 to 5000 employees     1993   Nonprofit Organization   \n",
       "1      5001 to 10000 employees     1968         Company - Public   \n",
       "2       1001 to 5000 employees     1981  Private Practice / Firm   \n",
       "3        501 to 1000 employees     2000         Company - Public   \n",
       "4          51 to 200 employees     1998        Company - Private   \n",
       "\n",
       "                                    industry             sector  \\\n",
       "index                                                             \n",
       "0                         Insurance Carriers          Insurance   \n",
       "1                     Research & Development  Business Services   \n",
       "2                                 Consulting  Business Services   \n",
       "3      Electrical & Electronic Manufacturing      Manufacturing   \n",
       "4                    Advertising & Marketing  Business Services   \n",
       "\n",
       "                          revenue  \n",
       "index                              \n",
       "0        Unknown / Non-Applicable  \n",
       "1          $1 to $2 billion (USD)  \n",
       "2      $100 to $500 million (USD)  \n",
       "3      $100 to $500 million (USD)  \n",
       "4        Unknown / Non-Applicable  "
      ]
     },
     "execution_count": 33,
     "metadata": {},
     "output_type": "execute_result"
    }
   ],
   "source": [
    "df_clear.head()"
   ]
  },
  {
   "cell_type": "markdown",
   "id": "649ce95f-702a-480d-b0d3-02300bbf4952",
   "metadata": {},
   "source": [
    "### 5. Splitting location and headquarters columns into city and state\n",
    "---"
   ]
  },
  {
   "cell_type": "markdown",
   "id": "a826ad3e-3464-4826-8983-c5c69b9203b6",
   "metadata": {},
   "source": [
    "Split the location column into two separate columns, where there will be information about the city and state"
   ]
  },
  {
   "cell_type": "code",
   "execution_count": 34,
   "id": "8425c7b0-84b3-43ec-917f-18bedf665874",
   "metadata": {
    "tags": []
   },
   "outputs": [],
   "source": [
    "location_city = df_clear.location.str.split(', ', expand=True)[0]\n",
    "location_state = df_clear.location.str.split(', ', expand=True)[1]"
   ]
  },
  {
   "cell_type": "code",
   "execution_count": 35,
   "id": "c4b5065c-7ef4-48d3-89dc-8ca5e2992f0b",
   "metadata": {
    "tags": []
   },
   "outputs": [],
   "source": [
    "new_idx = df_clear.columns.get_loc('location') + 1"
   ]
  },
  {
   "cell_type": "code",
   "execution_count": 36,
   "id": "dac4b712-33a6-4978-a206-c5ed7499c745",
   "metadata": {
    "tags": []
   },
   "outputs": [],
   "source": [
    "# insert the location_city column after the location column\n",
    "df_clear.insert(new_idx, 'location_city', location_city)"
   ]
  },
  {
   "cell_type": "code",
   "execution_count": 37,
   "id": "2e88a99a-bda4-4a0f-aa0d-126bca57807d",
   "metadata": {
    "tags": []
   },
   "outputs": [],
   "source": [
    "new_idx2 = df_clear.columns.get_loc('location_city') + 1"
   ]
  },
  {
   "cell_type": "code",
   "execution_count": 38,
   "id": "0813d90e-e97f-42e4-a2dd-b73730218544",
   "metadata": {
    "tags": []
   },
   "outputs": [],
   "source": [
    "# insert the location_state column after the location_city column\n",
    "df_clear.insert(new_idx2, 'location_state', location_state)"
   ]
  },
  {
   "cell_type": "markdown",
   "id": "a36d2ef2-f2b3-47b1-aa8d-8f712233a7a4",
   "metadata": {},
   "source": [
    "Split the headquarters column into two separate columns, where there will be information about the city and state"
   ]
  },
  {
   "cell_type": "code",
   "execution_count": 39,
   "id": "c7ee71cf-5b5d-4cf1-b968-d485bd7d7df0",
   "metadata": {
    "tags": []
   },
   "outputs": [],
   "source": [
    "headquarters_city = df_clear.headquarters.str.split(', ', expand=True)[0]\n",
    "headquarters_state = df_clear.headquarters.str.split(', ', expand=True)[1]"
   ]
  },
  {
   "cell_type": "code",
   "execution_count": 40,
   "id": "4920a871-8f7d-413c-acb1-0eda5d35a302",
   "metadata": {
    "tags": []
   },
   "outputs": [],
   "source": [
    "new_idx = df_clear.columns.get_loc('headquarters') + 1"
   ]
  },
  {
   "cell_type": "code",
   "execution_count": 41,
   "id": "29c964e1-0064-48e0-9d77-2d991e6af7b8",
   "metadata": {
    "tags": []
   },
   "outputs": [],
   "source": [
    "# insert the headquarters_city column after the headquarters column\n",
    "df_clear.insert(new_idx, 'headquarters_city', headquarters_city)"
   ]
  },
  {
   "cell_type": "code",
   "execution_count": 42,
   "id": "f01b6598-424f-44b9-83d9-a534e49c5e3d",
   "metadata": {
    "tags": []
   },
   "outputs": [],
   "source": [
    "new_idx2 = df_clear.columns.get_loc('headquarters_city') + 1"
   ]
  },
  {
   "cell_type": "code",
   "execution_count": 43,
   "id": "a6eedd8d-49db-4c99-98f8-bde9cc8e5ce5",
   "metadata": {
    "tags": []
   },
   "outputs": [],
   "source": [
    "# insert the headquarters_state column after the headquarters_city column\n",
    "df_clear.insert(new_idx2, 'headquarters_state', headquarters_state)"
   ]
  },
  {
   "cell_type": "code",
   "execution_count": 44,
   "id": "f37cf09b-9865-4207-b3e6-8a7448f9e79f",
   "metadata": {
    "tags": []
   },
   "outputs": [],
   "source": [
    "# delete columns location and headquarters\n",
    "df_clear.drop(columns=['location', 'headquarters'], inplace=True)"
   ]
  },
  {
   "cell_type": "code",
   "execution_count": 45,
   "id": "4245b06e-2c01-47cf-9559-731d381afaeb",
   "metadata": {
    "tags": []
   },
   "outputs": [
    {
     "name": "stdout",
     "output_type": "stream",
     "text": [
      "<class 'pandas.core.frame.DataFrame'>\n",
      "Int64Index: 672 entries, 0 to 671\n",
      "Data columns (total 16 columns):\n",
      " #   Column              Non-Null Count  Dtype  \n",
      "---  ------              --------------  -----  \n",
      " 0   job_title           672 non-null    object \n",
      " 1   low_salary_limit    672 non-null    int32  \n",
      " 2   max_salary_limit    672 non-null    int32  \n",
      " 3   job_description     672 non-null    object \n",
      " 4   rating              672 non-null    float64\n",
      " 5   company_name        672 non-null    object \n",
      " 6   location_city       672 non-null    object \n",
      " 7   location_state      649 non-null    object \n",
      " 8   headquarters_city   672 non-null    object \n",
      " 9   headquarters_state  641 non-null    object \n",
      " 10  staff_size          672 non-null    object \n",
      " 11  founded             672 non-null    int64  \n",
      " 12  type_of_ownership   672 non-null    object \n",
      " 13  industry            672 non-null    object \n",
      " 14  sector              672 non-null    object \n",
      " 15  revenue             672 non-null    object \n",
      "dtypes: float64(1), int32(2), int64(1), object(12)\n",
      "memory usage: 84.0+ KB\n"
     ]
    }
   ],
   "source": [
    "df_clear.info()"
   ]
  },
  {
   "cell_type": "markdown",
   "id": "be70d1c1-fdb4-4294-8dbf-45780dd2c865",
   "metadata": {},
   "source": [
    "### 6. None values to the same view\n",
    "---"
   ]
  },
  {
   "cell_type": "markdown",
   "id": "4542ccf3-8262-49c6-89a6-1b57738f2b7a",
   "metadata": {},
   "source": [
    "Replace '-1', 'Unknown', 'Unknown / Non-Applicable' values with 'NO INFO'"
   ]
  },
  {
   "cell_type": "code",
   "execution_count": 46,
   "id": "6e3bfa31-4e45-4529-82c4-0d6a2949704c",
   "metadata": {},
   "outputs": [],
   "source": [
    "df_clear.replace({'-1':'NO INFO', 'Unknown': 'NO INFO', 'Unknown / Non-Applicable': 'NO INFO'}, inplace=True)"
   ]
  },
  {
   "cell_type": "markdown",
   "id": "b6b9ae95-5325-48ac-9f07-88a833110d52",
   "metadata": {},
   "source": [
    "Remove extra characters from the range of the number of employees"
   ]
  },
  {
   "cell_type": "code",
   "execution_count": 47,
   "id": "715b6a0c-90a7-45ad-a31b-1388c843fad3",
   "metadata": {},
   "outputs": [
    {
     "data": {
      "text/plain": [
       "51 to 200 employees        135\n",
       "1001 to 5000 employees     104\n",
       "1 to 50 employees           86\n",
       "201 to 500 employees        85\n",
       "10000+ employees            80\n",
       "501 to 1000 employees       77\n",
       "5001 to 10000 employees     61\n",
       "NO INFO                     44\n",
       "Name: staff_size, dtype: int64"
      ]
     },
     "execution_count": 47,
     "metadata": {},
     "output_type": "execute_result"
    }
   ],
   "source": [
    "df_clear.staff_size.value_counts()"
   ]
  },
  {
   "cell_type": "code",
   "execution_count": 48,
   "id": "c1d524a8-1e52-4cba-9985-ba6f48809923",
   "metadata": {},
   "outputs": [],
   "source": [
    "df_clear.staff_size = df_clear.staff_size.str.replace(' to ', '-')\n",
    "df_clear.staff_size = df_clear.staff_size.str.replace(' employees', '')"
   ]
  },
  {
   "cell_type": "markdown",
   "id": "83e0fede-3894-43e2-a34d-341f2aac8bac",
   "metadata": {},
   "source": [
    "Remove extra characters from company's revenue range"
   ]
  },
  {
   "cell_type": "code",
   "execution_count": 49,
   "id": "4abd2894-556b-4774-8252-a4927bab5068",
   "metadata": {},
   "outputs": [
    {
     "data": {
      "text/plain": [
       "NO INFO                             240\n",
       "$100 to $500 million (USD)           94\n",
       "$10+ billion (USD)                   63\n",
       "$2 to $5 billion (USD)               45\n",
       "$10 to $25 million (USD)             41\n",
       "$1 to $2 billion (USD)               36\n",
       "$25 to $50 million (USD)             36\n",
       "$50 to $100 million (USD)            31\n",
       "$1 to $5 million (USD)               31\n",
       "$500 million to $1 billion (USD)     19\n",
       "$5 to $10 million (USD)              14\n",
       "Less than $1 million (USD)           14\n",
       "$5 to $10 billion (USD)               8\n",
       "Name: revenue, dtype: int64"
      ]
     },
     "execution_count": 49,
     "metadata": {},
     "output_type": "execute_result"
    }
   ],
   "source": [
    "df_clear.revenue.value_counts()"
   ]
  },
  {
   "cell_type": "code",
   "execution_count": 50,
   "id": "d04c33f2-9eb2-4b27-809b-f6f74fb88d3b",
   "metadata": {},
   "outputs": [],
   "source": [
    "df_clear.revenue = df_clear.revenue.str.replace('(USD)', '', regex=False)\n",
    "df_clear.revenue = df_clear.revenue.str.replace('', '')\n",
    "df_clear.revenue = df_clear.revenue.str.replace('to', '-')\n",
    "df_clear.revenue = df_clear.revenue.str.replace('$', '', regex=False)"
   ]
  },
  {
   "cell_type": "markdown",
   "id": "c5c0a2bb-90e5-49b5-aa55-fd614be65c37",
   "metadata": {},
   "source": [
    "### 7. Search for keywords in the job description\n",
    "---"
   ]
  },
  {
   "cell_type": "code",
   "execution_count": 51,
   "id": "779d89d8-6bc4-492e-b161-3d7120bd846f",
   "metadata": {
    "tags": []
   },
   "outputs": [],
   "source": [
    "# Open the file 'it_keywords.txt' in read mode using the 'open'\n",
    "with open('it_keywords.txt') as file:\n",
    "    keywords_list = file.read().split(',\\n')"
   ]
  },
  {
   "cell_type": "code",
   "execution_count": 52,
   "id": "04faf0ed-4cad-4a05-81b7-b543c3e14ef9",
   "metadata": {
    "tags": []
   },
   "outputs": [],
   "source": [
    "def skills_matches(descr):\n",
    "    # Clean the description by removing unwanted characters and converting it to lowercase\n",
    "    clear_descr = ' '.join([word.strip(\" ,.!@#&*()-_+:;'?><\") for word in descr.lower().split()])\n",
    "    # Use regular expressions to find matches between the cleaned description and the list of keywords\n",
    "    # Return the matched keywords as a comma-separated string\n",
    "    return ', '.join([keyword for keyword in keywords_list if re.search(rf'(\\s|^){re.escape(keyword)}(\\s|$)', clear_descr)])"
   ]
  },
  {
   "cell_type": "code",
   "execution_count": null,
   "id": "a0c9efa6-71cd-435e-8be6-232878214a87",
   "metadata": {
    "tags": []
   },
   "outputs": [],
   "source": [
    "# This will apply the 'skills_matches' function to each element (job description) in the 'job_description' column\n",
    "# The result will be a new column 'required_skills' in the DataFrame 'df_clear'\n",
    "df_clear['required_skills'] = df_clear.job_description.map(skills_matches)"
   ]
  },
  {
   "cell_type": "code",
   "execution_count": null,
   "id": "89c62a36-9c01-41b6-a8ce-13a73c7e06bf",
   "metadata": {},
   "outputs": [
    {
     "data": {
      "text/html": [
       "<div>\n",
       "<style scoped>\n",
       "    .dataframe tbody tr th:only-of-type {\n",
       "        vertical-align: middle;\n",
       "    }\n",
       "\n",
       "    .dataframe tbody tr th {\n",
       "        vertical-align: top;\n",
       "    }\n",
       "\n",
       "    .dataframe thead th {\n",
       "        text-align: right;\n",
       "    }\n",
       "</style>\n",
       "<table border=\"1\" class=\"dataframe\">\n",
       "  <thead>\n",
       "    <tr style=\"text-align: right;\">\n",
       "      <th></th>\n",
       "      <th>job_title</th>\n",
       "      <th>low_salary_limit</th>\n",
       "      <th>max_salary_limit</th>\n",
       "      <th>job_description</th>\n",
       "      <th>rating</th>\n",
       "      <th>company_name</th>\n",
       "      <th>location_city</th>\n",
       "      <th>location_state</th>\n",
       "      <th>headquarters_city</th>\n",
       "      <th>headquarters_state</th>\n",
       "      <th>staff_size</th>\n",
       "      <th>founded</th>\n",
       "      <th>type_of_ownership</th>\n",
       "      <th>industry</th>\n",
       "      <th>sector</th>\n",
       "      <th>revenue</th>\n",
       "      <th>required_skills</th>\n",
       "    </tr>\n",
       "    <tr>\n",
       "      <th>index</th>\n",
       "      <th></th>\n",
       "      <th></th>\n",
       "      <th></th>\n",
       "      <th></th>\n",
       "      <th></th>\n",
       "      <th></th>\n",
       "      <th></th>\n",
       "      <th></th>\n",
       "      <th></th>\n",
       "      <th></th>\n",
       "      <th></th>\n",
       "      <th></th>\n",
       "      <th></th>\n",
       "      <th></th>\n",
       "      <th></th>\n",
       "      <th></th>\n",
       "      <th></th>\n",
       "    </tr>\n",
       "  </thead>\n",
       "  <tbody>\n",
       "    <tr>\n",
       "      <th>0</th>\n",
       "      <td>Sr Data Scientist</td>\n",
       "      <td>137000</td>\n",
       "      <td>171000</td>\n",
       "      <td>Description\\n\\nThe Senior Data Scientist is re...</td>\n",
       "      <td>3.1</td>\n",
       "      <td>Healthfirst</td>\n",
       "      <td>New York</td>\n",
       "      <td>NY</td>\n",
       "      <td>New York</td>\n",
       "      <td>NY</td>\n",
       "      <td>1001-5000</td>\n",
       "      <td>1993</td>\n",
       "      <td>Nonprofit Organization</td>\n",
       "      <td>Insurance Carriers</td>\n",
       "      <td>Insurance</td>\n",
       "      <td>NO INFO</td>\n",
       "      <td>machine learning, data science, data analysis,...</td>\n",
       "    </tr>\n",
       "    <tr>\n",
       "      <th>1</th>\n",
       "      <td>Data Scientist</td>\n",
       "      <td>137000</td>\n",
       "      <td>171000</td>\n",
       "      <td>Secure our Nation, Ignite your Future\\n\\nJoin ...</td>\n",
       "      <td>4.2</td>\n",
       "      <td>ManTech</td>\n",
       "      <td>Chantilly</td>\n",
       "      <td>VA</td>\n",
       "      <td>Herndon</td>\n",
       "      <td>VA</td>\n",
       "      <td>5001-10000</td>\n",
       "      <td>1968</td>\n",
       "      <td>Company - Public</td>\n",
       "      <td>Research &amp; Development</td>\n",
       "      <td>Business Services</td>\n",
       "      <td>1 - 2 billion</td>\n",
       "      <td>sql, machine learning, data science, data anal...</td>\n",
       "    </tr>\n",
       "    <tr>\n",
       "      <th>2</th>\n",
       "      <td>Data Scientist</td>\n",
       "      <td>137000</td>\n",
       "      <td>171000</td>\n",
       "      <td>Overview\\n\\n\\nAnalysis Group is one of the lar...</td>\n",
       "      <td>3.8</td>\n",
       "      <td>Analysis Group</td>\n",
       "      <td>Boston</td>\n",
       "      <td>MA</td>\n",
       "      <td>Boston</td>\n",
       "      <td>MA</td>\n",
       "      <td>1001-5000</td>\n",
       "      <td>1981</td>\n",
       "      <td>Private Practice / Firm</td>\n",
       "      <td>Consulting</td>\n",
       "      <td>Business Services</td>\n",
       "      <td>100 - 500 million</td>\n",
       "      <td>python, r, natural language processing, machin...</td>\n",
       "    </tr>\n",
       "    <tr>\n",
       "      <th>3</th>\n",
       "      <td>Data Scientist</td>\n",
       "      <td>137000</td>\n",
       "      <td>171000</td>\n",
       "      <td>JOB DESCRIPTION:\\n\\nDo you have a passion for ...</td>\n",
       "      <td>3.5</td>\n",
       "      <td>INFICON</td>\n",
       "      <td>Newton</td>\n",
       "      <td>MA</td>\n",
       "      <td>Bad Ragaz</td>\n",
       "      <td>Switzerland</td>\n",
       "      <td>501-1000</td>\n",
       "      <td>2000</td>\n",
       "      <td>Company - Public</td>\n",
       "      <td>Electrical &amp; Electronic Manufacturing</td>\n",
       "      <td>Manufacturing</td>\n",
       "      <td>100 - 500 million</td>\n",
       "      <td>sql, tensorflow, pytorch, machine learning, de...</td>\n",
       "    </tr>\n",
       "    <tr>\n",
       "      <th>4</th>\n",
       "      <td>Data Scientist</td>\n",
       "      <td>137000</td>\n",
       "      <td>171000</td>\n",
       "      <td>Data Scientist\\nAffinity Solutions / Marketing...</td>\n",
       "      <td>2.9</td>\n",
       "      <td>Affinity Solutions</td>\n",
       "      <td>New York</td>\n",
       "      <td>NY</td>\n",
       "      <td>New York</td>\n",
       "      <td>NY</td>\n",
       "      <td>51-200</td>\n",
       "      <td>1998</td>\n",
       "      <td>Company - Private</td>\n",
       "      <td>Advertising &amp; Marketing</td>\n",
       "      <td>Business Services</td>\n",
       "      <td>NO INFO</td>\n",
       "      <td>python, sql, r, machine learning, data science...</td>\n",
       "    </tr>\n",
       "  </tbody>\n",
       "</table>\n",
       "</div>"
      ],
      "text/plain": [
       "               job_title  low_salary_limit  max_salary_limit  \\\n",
       "index                                                          \n",
       "0      Sr Data Scientist            137000            171000   \n",
       "1         Data Scientist            137000            171000   \n",
       "2         Data Scientist            137000            171000   \n",
       "3         Data Scientist            137000            171000   \n",
       "4         Data Scientist            137000            171000   \n",
       "\n",
       "                                         job_description  rating  \\\n",
       "index                                                              \n",
       "0      Description\\n\\nThe Senior Data Scientist is re...     3.1   \n",
       "1      Secure our Nation, Ignite your Future\\n\\nJoin ...     4.2   \n",
       "2      Overview\\n\\n\\nAnalysis Group is one of the lar...     3.8   \n",
       "3      JOB DESCRIPTION:\\n\\nDo you have a passion for ...     3.5   \n",
       "4      Data Scientist\\nAffinity Solutions / Marketing...     2.9   \n",
       "\n",
       "             company_name location_city location_state headquarters_city  \\\n",
       "index                                                                      \n",
       "0             Healthfirst      New York             NY          New York   \n",
       "1                 ManTech     Chantilly             VA           Herndon   \n",
       "2          Analysis Group        Boston             MA            Boston   \n",
       "3                 INFICON        Newton             MA         Bad Ragaz   \n",
       "4      Affinity Solutions      New York             NY          New York   \n",
       "\n",
       "      headquarters_state  staff_size  founded        type_of_ownership  \\\n",
       "index                                                                    \n",
       "0                     NY   1001-5000     1993   Nonprofit Organization   \n",
       "1                     VA  5001-10000     1968         Company - Public   \n",
       "2                     MA   1001-5000     1981  Private Practice / Firm   \n",
       "3            Switzerland    501-1000     2000         Company - Public   \n",
       "4                     NY      51-200     1998        Company - Private   \n",
       "\n",
       "                                    industry             sector  \\\n",
       "index                                                             \n",
       "0                         Insurance Carriers          Insurance   \n",
       "1                     Research & Development  Business Services   \n",
       "2                                 Consulting  Business Services   \n",
       "3      Electrical & Electronic Manufacturing      Manufacturing   \n",
       "4                    Advertising & Marketing  Business Services   \n",
       "\n",
       "                  revenue                                    required_skills  \n",
       "index                                                                         \n",
       "0                 NO INFO  machine learning, data science, data analysis,...  \n",
       "1          1 - 2 billion   sql, machine learning, data science, data anal...  \n",
       "2      100 - 500 million   python, r, natural language processing, machin...  \n",
       "3      100 - 500 million   sql, tensorflow, pytorch, machine learning, de...  \n",
       "4                 NO INFO  python, sql, r, machine learning, data science...  "
      ]
     },
     "execution_count": 54,
     "metadata": {},
     "output_type": "execute_result"
    }
   ],
   "source": [
    "df_clear.head()"
   ]
  }
 ],
 "metadata": {
  "kernelspec": {
   "display_name": "Python 3 (ipykernel)",
   "language": "python",
   "name": "python3"
  },
  "language_info": {
   "codemirror_mode": {
    "name": "ipython",
    "version": 3
   },
   "file_extension": ".py",
   "mimetype": "text/x-python",
   "name": "python",
   "nbconvert_exporter": "python",
   "pygments_lexer": "ipython3",
   "version": "3.10.10"
  }
 },
 "nbformat": 4,
 "nbformat_minor": 5
}
